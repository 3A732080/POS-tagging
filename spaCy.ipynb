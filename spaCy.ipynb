{
 "cells": [
  {
   "cell_type": "markdown",
   "metadata": {
    "collapsed": true
   },
   "source": [
    "# 詞性標注練習"
   ]
  },
  {
   "cell_type": "code",
   "execution_count": null,
   "metadata": {},
   "outputs": [],
   "source": [
    "# 安裝\n",
    "# pip install spacy\n",
    "# python -m spacy download en_core_web_md"
   ]
  },
  {
   "cell_type": "code",
   "execution_count": 1,
   "metadata": {},
   "outputs": [],
   "source": [
    "import spacy"
   ]
  },
  {
   "cell_type": "code",
   "execution_count": 3,
   "metadata": {},
   "outputs": [
    {
     "name": "stdout",
     "output_type": "stream",
     "text": [
      "List\n",
      "suppliers\n",
      "who\n",
      "supply\n",
      "red\n",
      "parts\n",
      "?\n"
     ]
    }
   ],
   "source": [
    "# 載入英文模型\n",
    "nlp = spacy.load(\"en_core_web_md\")\n",
    "\n",
    "# 要分析的句子\n",
    "sentence = \"List suppliers who supply red parts?\"\n",
    "\n",
    "# 使用 spaCy 處理句子\n",
    "doc = nlp(sentence)\n",
    "\n",
    "# 輸出每個詞彙的文本、通用詞性和詳細詞性\n",
    "for token in doc:\n",
    "    print(f\"{token.text:12} {token.pos_:10} {token.dep_}\")"
   ]
  },
  {
   "cell_type": "code",
   "execution_count": 5,
   "metadata": {},
   "outputs": [
    {
     "name": "stdout",
     "output_type": "stream",
     "text": [
      "List         VERB       ROOT\n",
      "the          DET        det\n",
      "students     NOUN       dobj\n",
      "who          PRON       nsubj\n",
      "take         VERB       relcl\n",
      "the          DET        det\n",
      "course       NOUN       dobj\n",
      "taught       VERB       acl\n",
      "by           ADP        agent\n",
      "Frank        PROPN      pobj\n"
     ]
    }
   ],
   "source": [
    "nlp = spacy.load(\"en_core_web_md\")\n",
    "sen = \"List the students who take the course taught by Frank\"\n",
    "doc = nlp(sen)\n",
    "for token in doc:\n",
    "    print(f\"{token.text:12} {token.pos_:10} {token.dep_}\")"
   ]
  },
  {
   "cell_type": "code",
   "execution_count": null,
   "metadata": {},
   "outputs": [],
   "source": []
  }
 ],
 "metadata": {
  "kernelspec": {
   "display_name": "Python 3",
   "language": "python",
   "name": "python3"
  },
  "language_info": {
   "codemirror_mode": {
    "name": "ipython",
    "version": 3
   },
   "file_extension": ".py",
   "mimetype": "text/x-python",
   "name": "python",
   "nbconvert_exporter": "python",
   "pygments_lexer": "ipython3",
   "version": "3.9.13"
  }
 },
 "nbformat": 4,
 "nbformat_minor": 2
}
